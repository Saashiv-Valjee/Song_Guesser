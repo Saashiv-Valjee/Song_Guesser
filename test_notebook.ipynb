{
 "cells": [
  {
   "cell_type": "code",
   "execution_count": null,
   "id": "ecc3bf29",
   "metadata": {},
   "outputs": [],
   "source": [
    "# pip freeze -r requirements.txt"
   ]
  },
  {
   "cell_type": "code",
   "execution_count": null,
   "id": "fe987ac8",
   "metadata": {},
   "outputs": [],
   "source": [
    "import os\n",
    "import requests\n",
    "import qrcode\n",
    "from dotenv import load_dotenv\n",
    "\n",
    "# Load credentials\n",
    "load_dotenv()\n",
    "client_id = os.getenv(\"SPOTIFY_CLIENT_ID\")\n",
    "client_secret = os.getenv(\"SPOTIFY_CLIENT_SECRET\")"
   ]
  },
  {
   "cell_type": "code",
   "execution_count": null,
   "id": "fa577de6",
   "metadata": {},
   "outputs": [
    {
     "name": "stdout",
     "output_type": "stream",
     "text": [
      "🔗 Spotify URL: https://open.spotify.com/track/1Yk0cQdMLx5RzzFTYwmuld\n",
      "✅ QR code saved as QR/adele_hello_qr.png\n"
     ]
    }
   ],
   "source": [
    "# Get access token using Client Credentials Flow\n",
    "def get_token():\n",
    "    auth_response = requests.post(\n",
    "        'https://accounts.spotify.com/api/token',\n",
    "        data={'grant_type': 'client_credentials'},\n",
    "        auth=(client_id, client_secret)\n",
    "    )\n",
    "    return auth_response.json().get('access_token')\n",
    "\n",
    "# Search Spotify for a track\n",
    "def get_track_url(song_query, token):\n",
    "    headers = {'Authorization': f'Bearer {token}'}\n",
    "    params = {'q': song_query, 'type': 'track', 'limit': 1}\n",
    "    response = requests.get('https://api.spotify.com/v1/search', headers=headers, params=params)\n",
    "    items = response.json().get('tracks', {}).get('items', [])\n",
    "    if items:\n",
    "        return items[0]['external_urls']['spotify']\n",
    "    else:\n",
    "        print(\"Track not found.\")\n",
    "        return None\n",
    "\n",
    "# Generate and save QR code\n",
    "def generate_qr_code(link, filename=\"spotify_qr.png\"):\n",
    "    img = qrcode.make(link)\n",
    "    img.save(filename)\n",
    "    print(f\"✅ QR code saved as {filename}\")\n",
    "\n",
    "# ---- Run it ----\n",
    "if __name__ == \"__main__\":\n",
    "    song_name = input(\"🎵 Enter song name or artist + song (e.g. 'Adele Hello'): \").strip()\n",
    "    token = get_token()\n",
    "    url = get_track_url(song_name, token)\n",
    "    if url:\n",
    "        print(\"🔗 Spotify URL:\", url)\n",
    "        generate_qr_code(url, f\"QR/{song_name.replace(' ', '_')}_qr.png\")\n"
   ]
  }
 ],
 "metadata": {
  "kernelspec": {
   "display_name": "songsong",
   "language": "python",
   "name": "python3"
  },
  "language_info": {
   "codemirror_mode": {
    "name": "ipython",
    "version": 3
   },
   "file_extension": ".py",
   "mimetype": "text/x-python",
   "name": "python",
   "nbconvert_exporter": "python",
   "pygments_lexer": "ipython3",
   "version": "3.11.11"
  }
 },
 "nbformat": 4,
 "nbformat_minor": 5
}
